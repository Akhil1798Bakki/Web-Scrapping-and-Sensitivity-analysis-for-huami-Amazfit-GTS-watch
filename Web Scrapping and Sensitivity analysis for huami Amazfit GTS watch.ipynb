{
 "cells": [
  {
   "cell_type": "markdown",
   "metadata": {},
   "source": [
    "# Author Bakki Akhil"
   ]
  },
  {
   "cell_type": "markdown",
   "metadata": {},
   "source": [
    "### The main aim of this project is to extract data of users who bought huami Amazfit GTS smartwatch from flipkart website.\n",
    "### The user data is extracted from the reviews and the data here consists of Customer name, Ratings given by the customer about the product, Title of the review, and The main review given by the customers.\n",
    "### Here in this project we have considerd only the top 20 customer reviews.\n",
    "### In this project for scrapping the data from website we have used Beautifulsoup package available in python \n",
    "### In this to get the data from various pages in the flipkart review website we have taken the help of \"whatismybrowser\" website as it helps to load the url when the pages have been shifted in flipkart website as one page maintains only 10 reviews. \n",
    "### After scrapping the required data the data of 4 columns are stored in .csv file.\n",
    "### Now to do senstivity analysis we have use TextBlob library for processing textual data\n",
    "### The TextBlob returns polarity and subjectivity of a sentence.\n",
    "### Polarity lies between -1 to +1 where -1 defines negative statement and +1 defines positive statement and 0 defines neutral statement\n",
    "### Subjectivity quantifies the amount of personal opinion and factual information contained in the text. The higher subjectivity means that the text contains personal opinion rather than factual information.\n",
    "### In this we have done sentivity analysis for the \"Main review\" given by the users about the product."
   ]
  },
  {
   "cell_type": "code",
   "execution_count": 1,
   "metadata": {},
   "outputs": [],
   "source": [
    "from bs4 import BeautifulSoup as bs # This line loads Beautifulsoup for web scrapping"
   ]
  },
  {
   "cell_type": "code",
   "execution_count": 2,
   "metadata": {},
   "outputs": [],
   "source": [
    "import requests # This makes requests for taking the data from website"
   ]
  },
  {
   "cell_type": "code",
   "execution_count": 3,
   "metadata": {},
   "outputs": [],
   "source": [
    "# This header file link is obtained from \"Whatismybrowser.com\" website which helps in obtaining information from various pages in a website\n",
    "header = {\n",
    "    \"User_Agent\" : \"https://developers.whatismybrowser.com/useragents/parse/?analyse-my-user-agent=yes\"\n",
    "}"
   ]
  },
  {
   "cell_type": "code",
   "execution_count": 4,
   "metadata": {},
   "outputs": [
    {
     "data": {
      "text/plain": [
       "20"
      ]
     },
     "execution_count": 4,
     "metadata": {},
     "output_type": "execute_result"
    }
   ],
   "source": [
    "# The below code is used to obtain the details of Customer names who have given review for the product\n",
    "customer_name = []\n",
    "for x in range(1,3): # The x here loads the reviews of first two pages in reviews\n",
    "    page = requests.get(f\"https://www.flipkart.com/huami-amazfit-gts-smartwatch/product-reviews/itmd8be178f03412?pid=SMWFNSX922XJAUAY&lid=LSTSMWFNSX922XJAUAYUNCO19&marketplace=FLIPKART&page={x}\") # The flipkart website from where the reviews have been taken and in this at the end 'x' has been loaded for getting the details from various pages\n",
    "    soup = bs(page.content,\"html.parser\") # This is used to load the content of page in html format\n",
    "    \n",
    "    names = soup.find_all(\"p\",{\"class\" : \"_2sc7ZR _2V5EHH\"}) # This is used to extract the information of usernames of 20 reviews\n",
    "    \n",
    "    for i in range(0, len(names)):\n",
    "        customer_name.append(names[i].get_text())# Loading the usernames in textual format\n",
    "        \n",
    "len(customer_name)"
   ]
  },
  {
   "cell_type": "code",
   "execution_count": 5,
   "metadata": {},
   "outputs": [
    {
     "data": {
      "text/plain": [
       "['Aarthi K',\n",
       " 'Sai Kiran Kumar.KV',\n",
       " 'Lokesh  Behera ',\n",
       " 'kavan KB',\n",
       " 'Rahul Chavan',\n",
       " 'SAIF  KHAN',\n",
       " 'Aakash  Kumar',\n",
       " 'Dr.Md Sami khan',\n",
       " 'Manish Meena',\n",
       " 'Salman Shamsi',\n",
       " 'MAYURESH WAGH',\n",
       " 'Sanjay Barkade',\n",
       " 'Aditya Jana',\n",
       " 'Karun Kittur',\n",
       " 'Ronny Carassco',\n",
       " 'Flipkart Customer',\n",
       " 'SARAVANAN.K KAMALANATHAN',\n",
       " 'Kaustuv Sarkar',\n",
       " 'AKHIL SHAIKH',\n",
       " 'Minhaj Uddin']"
      ]
     },
     "execution_count": 5,
     "metadata": {},
     "output_type": "execute_result"
    }
   ],
   "source": [
    "customer_name # List of names of 20 customer names"
   ]
  },
  {
   "cell_type": "code",
   "execution_count": 6,
   "metadata": {},
   "outputs": [
    {
     "data": {
      "text/plain": [
       "20"
      ]
     },
     "execution_count": 6,
     "metadata": {},
     "output_type": "execute_result"
    }
   ],
   "source": [
    "# The below code is used to obtain the details of ratings who have given review for the product\n",
    "rating = []\n",
    "for x in range(1,3):\n",
    "    page = requests.get(f\"https://www.flipkart.com/huami-amazfit-gts-smartwatch/product-reviews/itmd8be178f03412?pid=SMWFNSX922XJAUAY&lid=LSTSMWFNSX922XJAUAYUNCO19&marketplace=FLIPKART&page={x}\")\n",
    "    soup = bs(page.content,\"html.parser\")\n",
    "    \n",
    "    rate = soup.find_all(\"div\",{\"class\" : \"_3LWZlK _1BLPMq\"})\n",
    "    \n",
    "    for i in range(0, len(rate)):\n",
    "        rating.append(rate[i].get_text())\n",
    "        \n",
    "len(rating)"
   ]
  },
  {
   "cell_type": "code",
   "execution_count": 7,
   "metadata": {},
   "outputs": [
    {
     "data": {
      "text/plain": [
       "['5',\n",
       " '5',\n",
       " '5',\n",
       " '5',\n",
       " '5',\n",
       " '5',\n",
       " '3',\n",
       " '5',\n",
       " '3',\n",
       " '5',\n",
       " '5',\n",
       " '5',\n",
       " '5',\n",
       " '5',\n",
       " '5',\n",
       " '5',\n",
       " '5',\n",
       " '5',\n",
       " '4',\n",
       " '5']"
      ]
     },
     "execution_count": 7,
     "metadata": {},
     "output_type": "execute_result"
    }
   ],
   "source": [
    "rating"
   ]
  },
  {
   "cell_type": "code",
   "execution_count": 8,
   "metadata": {},
   "outputs": [
    {
     "data": {
      "text/plain": [
       "20"
      ]
     },
     "execution_count": 8,
     "metadata": {},
     "output_type": "execute_result"
    }
   ],
   "source": [
    "# The below code is used to obtain the details of Review Title who have given review for the product\n",
    "review_title = []\n",
    "for x in range(1,3):\n",
    "    page = requests.get(f\"https://www.flipkart.com/huami-amazfit-gts-smartwatch/product-reviews/itmd8be178f03412?pid=SMWFNSX922XJAUAY&lid=LSTSMWFNSX922XJAUAYUNCO19&marketplace=FLIPKART&page={x}\")\n",
    "    soup = bs(page.content,\"html.parser\")\n",
    "    \n",
    "    review = soup.find_all(\"p\",{\"class\" : \"_2-N8zT\"})\n",
    "    \n",
    "    for i in range(0,len(review)):\n",
    "        review_title.append(review[i].get_text())\n",
    "        \n",
    "len(review_title)"
   ]
  },
  {
   "cell_type": "code",
   "execution_count": 9,
   "metadata": {},
   "outputs": [
    {
     "data": {
      "text/plain": [
       "['Super!',\n",
       " 'Terrific',\n",
       " 'Awesome',\n",
       " 'Terrific purchase',\n",
       " 'Terrific',\n",
       " 'Highly recommended',\n",
       " 'Decent product',\n",
       " 'Terrific',\n",
       " 'Fair',\n",
       " 'Terrific',\n",
       " 'Brilliant',\n",
       " 'Perfect product!',\n",
       " 'Terrific purchase',\n",
       " 'Mind-blowing purchase',\n",
       " 'Terrific purchase',\n",
       " 'Highly recommended',\n",
       " 'Awesome',\n",
       " 'Wonderful',\n",
       " 'Good choice',\n",
       " 'Worth every penny']"
      ]
     },
     "execution_count": 9,
     "metadata": {},
     "output_type": "execute_result"
    }
   ],
   "source": [
    "review_title"
   ]
  },
  {
   "cell_type": "code",
   "execution_count": 10,
   "metadata": {},
   "outputs": [
    {
     "data": {
      "text/plain": [
       "20"
      ]
     },
     "execution_count": 10,
     "metadata": {},
     "output_type": "execute_result"
    }
   ],
   "source": [
    "# The below code is used to obtain the details of main review who have given review for the product\n",
    "main_review = []\n",
    "for x in range(1,3):\n",
    "    page = requests.get(f\"https://www.flipkart.com/huami-amazfit-gts-smartwatch/product-reviews/itmd8be178f03412?pid=SMWFNSX922XJAUAY&lid=LSTSMWFNSX922XJAUAYUNCO19&marketplace=FLIPKART&page={x}\")\n",
    "    soup = bs(page.content,\"html.parser\")\n",
    "    \n",
    "    main = soup.find_all(\"div\",{\"class\" : \"t-ZTKy\"})\n",
    "    \n",
    "    for i in range(0, len(main)):\n",
    "        main_review.append(main[i].get_text())\n",
    "len(main_review)"
   ]
  },
  {
   "cell_type": "code",
   "execution_count": 11,
   "metadata": {},
   "outputs": [
    {
     "data": {
      "text/plain": [
       "['Ultra clear display! Cool features like social media and call notifications, app alerts, call can be cut or muted, compass, shows altitude, air pressure, music control, alarm, timer, uv index, idle alerts, step counter, heart rate, calories burnt, various sports modes, screen flashlight, several built-in and customizable watch faces, magnetic charging pad, etc. Overall good and premium looking!  Cannot attend calls or reply to message though but can dismiss calls or mute. Will update my revie...READ MORE',\n",
       " \"Awesome Smart WatchAwesome Performance.A Product which have Rich Looks & Stunning Styling .... With Accurate Performance.... Fully Satisfied with #Aamzfit GTS... Finally it's a Worthy Buy 🤘🏼...READ MORE\",\n",
       " 'Till now this one is the best which I have used so far.No complaints about the screen as it is an AMOLED display which is perfect both in night and daylight.Best thing is its battery life. It sustained almost 16days including Always On display for 12hrs a day.If you want a normal decent but a great watch to rely upon. Go for this. Perfect and Light weight.READ MORE',\n",
       " \"Good fitness tarcker, good amoled display, good battery backup.If you happy with above details than it's worth deal.READ MORE\",\n",
       " 'Awesome product right now in best price like a brandREAD MORE',\n",
       " \"Really smart watch...it's very comfortable and lite weight it's awesome product thank you flipkart ❤and delivery boy...!!!READ MORE\",\n",
       " \"It has a GPS issue, after a replacement it remains the same and foot counting mostly goes wrong. I give 3 star for its look and battery back up.  If you you want perfect smartwatch don't buy. If a new buyer want to buy must check it's GPS after purchasing. And I give 5star to Flipkart who helped me for returning this product.READ MORE\",\n",
       " 'Best Smartwatch with a great look, amazing display quality, and customisable display, cool features sporty look, I advise this to all technology lovers and who are looking for an excellent display features,READ MORE',\n",
       " \"After a couple of weeks usage here are some of my thoughtsPros :1.Display : Very sharp and clear. Well that's expected because it's an amoled display. 2. Weight : it's super light. 3. Glass : it's quite a strong as I bumped it onto metal gate accidentally but it did not even got a scratch. Cons :1. Step counter : it's a complete mess. Sometimes I wake up with 200-300 👣 giving me doubts that i might be walking in my sleep 😄. 2. Battery : I thought this would last approx 14 days...READ MORE\",\n",
       " 'This watch has premium quality body and amazing finish, stunning amoled bright colorful display, always on display is nice and great customisable ui with great features. Total value for money. Great WatchREAD MORE',\n",
       " 'Received a very well packed box. The white main box looks good and gives you the feeling of what you purchased is premium! The display is just amazing! Strap quality is also very good. Premium looks! Multiple watch faces to enhance the looks.1.Display is just stunning!2. Strap is good though one must consider buying a spare strap.3. Music controls are helpful and work very well4. All the fitness data is very accurate( compared it with other available similar products)5. The Amazfit app ...READ MORE',\n",
       " 'Super watch.Showing exact all readings.(heart rate,step counting)Good looking, stylish.Over all great product. Full paisa wasul..I used this watch last 2 months.I charged this watch last 15 days before still it shows 9% great back up.READ MORE',\n",
       " 'Display Quality is amazing because of amoled ,In direct sunlight also ,Watch faces looks like real mechanical watch.. In new firmware they also given the always on display ,Auto brightness feature is coolREAD MORE',\n",
       " 'Best smart watch you can get under 10k . Nice display n built quality is good . Rating is 9.5 | 10.READ MORE',\n",
       " \"Loved the watch. Reviewing after owning smart watches like, fossil, Michael kors, huawei GT, G-shock. So I purchased 2 of these in a weeks time for gifting. The watch is having 5 stand out features.1. The looks are to die for. The finish feels so superb. Feels very elegant on wrist.2. The amoled screen is perfect to look at. HD screen is what we want in today's tech.3. Run tracker is accurate and is good with too many functions.4. Watch faces to add to the beauty. Download any wallpap...READ MORE\",\n",
       " \"They have mentioned the battery backup as upto 14 days..where as am getting two whole days (48 hrs)with always on display and frequent exercise intervals...and it takes 1hr 40 mins for charging from 0-100%..with this budget ,you are getting a wonderful  display  which works very sharp and crisp in sunlight too and  the touch sensitivity is also good... simply....it is awesome in this price band ..no other comparision. ...go for it guys..u won't regret.READ MORE\",\n",
       " 'Seriously an awesome watch at this affordable price❤Go for it.. today is the first day I m using it.. will rewrite the review after days.. as of now watch is good nd options are also good... Charging is also too fast❣READ MORE',\n",
       " \"Took 8 days to deliver.But the watch is awesome indeed in this price range.It is hard to get such a nice finish and such futuristic looks in this price range.Display - 5 starsDesign - 5 starsFeatures - 3.5 starsBattery - 4 starsComfort - 4.5 starsWater resistance - 3.5 starsWatch UI - 4 starsPrice - 5 starsOverall - 4 starsIf you're opting for a smartwatch under 10k INR, then this is probably the best you will get.READ MORE\",\n",
       " 'Awesome watch, got his in 7020 in offer.amoled screen make it nice in looksfeatures wise also good, watch faces are available in good numbers in app.strip is glossy which is best thing to bear, very soft.Do not buy if you hv budget around 8000-10000, go for other products coz u will get calling feature.But if u are in 7000 budget then this is better option.Heart Monitor is not accurate.READ MORE',\n",
       " 'Happy to get the watch, the delivery was soon, and pretty happy of the product.I would had been more glad if1. Watch had call receiving function2. Had female ovulation tracking function3. Could store my favourite watch faces4. Could had some storage for songs5. Could had long vibrations for my alarmsREAD MORE']"
      ]
     },
     "execution_count": 11,
     "metadata": {},
     "output_type": "execute_result"
    }
   ],
   "source": [
    "main_review"
   ]
  },
  {
   "cell_type": "code",
   "execution_count": 12,
   "metadata": {},
   "outputs": [],
   "source": [
    "import pandas as pd # Here we are importing pandas to load and save data"
   ]
  },
  {
   "cell_type": "code",
   "execution_count": 13,
   "metadata": {},
   "outputs": [],
   "source": [
    "df = pd.DataFrame() # We are using pandas to built a DataFrame"
   ]
  },
  {
   "cell_type": "code",
   "execution_count": 14,
   "metadata": {},
   "outputs": [],
   "source": [
    "# The below code used to load the data in rows and columns format\n",
    "df[\"Customer Name\"] = customer_name\n",
    "df[\"Rating on a scale of 5\"] = rating\n",
    "df[\"Review Title\"] = review_title\n",
    "df[\"Main review\"] = main_review"
   ]
  },
  {
   "cell_type": "code",
   "execution_count": 16,
   "metadata": {},
   "outputs": [
    {
     "data": {
      "text/html": [
       "<div>\n",
       "<style scoped>\n",
       "    .dataframe tbody tr th:only-of-type {\n",
       "        vertical-align: middle;\n",
       "    }\n",
       "\n",
       "    .dataframe tbody tr th {\n",
       "        vertical-align: top;\n",
       "    }\n",
       "\n",
       "    .dataframe thead th {\n",
       "        text-align: right;\n",
       "    }\n",
       "</style>\n",
       "<table border=\"1\" class=\"dataframe\">\n",
       "  <thead>\n",
       "    <tr style=\"text-align: right;\">\n",
       "      <th></th>\n",
       "      <th>Customer Name</th>\n",
       "      <th>Rating on a scale of 5</th>\n",
       "      <th>Review Title</th>\n",
       "      <th>Main review</th>\n",
       "    </tr>\n",
       "  </thead>\n",
       "  <tbody>\n",
       "    <tr>\n",
       "      <th>0</th>\n",
       "      <td>Aarthi K</td>\n",
       "      <td>5</td>\n",
       "      <td>Super!</td>\n",
       "      <td>Ultra clear display! Cool features like social...</td>\n",
       "    </tr>\n",
       "    <tr>\n",
       "      <th>1</th>\n",
       "      <td>Sai Kiran Kumar.KV</td>\n",
       "      <td>5</td>\n",
       "      <td>Terrific</td>\n",
       "      <td>Awesome Smart WatchAwesome Performance.A Produ...</td>\n",
       "    </tr>\n",
       "    <tr>\n",
       "      <th>2</th>\n",
       "      <td>Lokesh  Behera</td>\n",
       "      <td>5</td>\n",
       "      <td>Awesome</td>\n",
       "      <td>Till now this one is the best which I have use...</td>\n",
       "    </tr>\n",
       "    <tr>\n",
       "      <th>3</th>\n",
       "      <td>kavan KB</td>\n",
       "      <td>5</td>\n",
       "      <td>Terrific purchase</td>\n",
       "      <td>Good fitness tarcker, good amoled display, goo...</td>\n",
       "    </tr>\n",
       "    <tr>\n",
       "      <th>4</th>\n",
       "      <td>Rahul Chavan</td>\n",
       "      <td>5</td>\n",
       "      <td>Terrific</td>\n",
       "      <td>Awesome product right now in best price like a...</td>\n",
       "    </tr>\n",
       "    <tr>\n",
       "      <th>5</th>\n",
       "      <td>SAIF  KHAN</td>\n",
       "      <td>5</td>\n",
       "      <td>Highly recommended</td>\n",
       "      <td>Really smart watch...it's very comfortable and...</td>\n",
       "    </tr>\n",
       "    <tr>\n",
       "      <th>6</th>\n",
       "      <td>Aakash  Kumar</td>\n",
       "      <td>3</td>\n",
       "      <td>Decent product</td>\n",
       "      <td>It has a GPS issue, after a replacement it rem...</td>\n",
       "    </tr>\n",
       "    <tr>\n",
       "      <th>7</th>\n",
       "      <td>Dr.Md Sami khan</td>\n",
       "      <td>5</td>\n",
       "      <td>Terrific</td>\n",
       "      <td>Best Smartwatch with a great look, amazing dis...</td>\n",
       "    </tr>\n",
       "    <tr>\n",
       "      <th>8</th>\n",
       "      <td>Manish Meena</td>\n",
       "      <td>3</td>\n",
       "      <td>Fair</td>\n",
       "      <td>After a couple of weeks usage here are some of...</td>\n",
       "    </tr>\n",
       "    <tr>\n",
       "      <th>9</th>\n",
       "      <td>Salman Shamsi</td>\n",
       "      <td>5</td>\n",
       "      <td>Terrific</td>\n",
       "      <td>This watch has premium quality body and amazin...</td>\n",
       "    </tr>\n",
       "    <tr>\n",
       "      <th>10</th>\n",
       "      <td>MAYURESH WAGH</td>\n",
       "      <td>5</td>\n",
       "      <td>Brilliant</td>\n",
       "      <td>Received a very well packed box. The white mai...</td>\n",
       "    </tr>\n",
       "    <tr>\n",
       "      <th>11</th>\n",
       "      <td>Sanjay Barkade</td>\n",
       "      <td>5</td>\n",
       "      <td>Perfect product!</td>\n",
       "      <td>Super watch.Showing exact all readings.(heart ...</td>\n",
       "    </tr>\n",
       "    <tr>\n",
       "      <th>12</th>\n",
       "      <td>Aditya Jana</td>\n",
       "      <td>5</td>\n",
       "      <td>Terrific purchase</td>\n",
       "      <td>Display Quality is amazing because of amoled ,...</td>\n",
       "    </tr>\n",
       "    <tr>\n",
       "      <th>13</th>\n",
       "      <td>Karun Kittur</td>\n",
       "      <td>5</td>\n",
       "      <td>Mind-blowing purchase</td>\n",
       "      <td>Best smart watch you can get under 10k . Nice ...</td>\n",
       "    </tr>\n",
       "    <tr>\n",
       "      <th>14</th>\n",
       "      <td>Ronny Carassco</td>\n",
       "      <td>5</td>\n",
       "      <td>Terrific purchase</td>\n",
       "      <td>Loved the watch. Reviewing after owning smart ...</td>\n",
       "    </tr>\n",
       "    <tr>\n",
       "      <th>15</th>\n",
       "      <td>Flipkart Customer</td>\n",
       "      <td>5</td>\n",
       "      <td>Highly recommended</td>\n",
       "      <td>They have mentioned the battery backup as upto...</td>\n",
       "    </tr>\n",
       "    <tr>\n",
       "      <th>16</th>\n",
       "      <td>SARAVANAN.K KAMALANATHAN</td>\n",
       "      <td>5</td>\n",
       "      <td>Awesome</td>\n",
       "      <td>Seriously an awesome watch at this affordable ...</td>\n",
       "    </tr>\n",
       "    <tr>\n",
       "      <th>17</th>\n",
       "      <td>Kaustuv Sarkar</td>\n",
       "      <td>5</td>\n",
       "      <td>Wonderful</td>\n",
       "      <td>Took 8 days to deliver.But the watch is awesom...</td>\n",
       "    </tr>\n",
       "    <tr>\n",
       "      <th>18</th>\n",
       "      <td>AKHIL SHAIKH</td>\n",
       "      <td>4</td>\n",
       "      <td>Good choice</td>\n",
       "      <td>Awesome watch, got his in 7020 in offer.amoled...</td>\n",
       "    </tr>\n",
       "    <tr>\n",
       "      <th>19</th>\n",
       "      <td>Minhaj Uddin</td>\n",
       "      <td>5</td>\n",
       "      <td>Worth every penny</td>\n",
       "      <td>Happy to get the watch, the delivery was soon,...</td>\n",
       "    </tr>\n",
       "  </tbody>\n",
       "</table>\n",
       "</div>"
      ],
      "text/plain": [
       "               Customer Name Rating on a scale of 5           Review Title  \\\n",
       "0                   Aarthi K                      5                 Super!   \n",
       "1         Sai Kiran Kumar.KV                      5               Terrific   \n",
       "2            Lokesh  Behera                       5                Awesome   \n",
       "3                   kavan KB                      5      Terrific purchase   \n",
       "4               Rahul Chavan                      5               Terrific   \n",
       "5                 SAIF  KHAN                      5     Highly recommended   \n",
       "6              Aakash  Kumar                      3         Decent product   \n",
       "7            Dr.Md Sami khan                      5               Terrific   \n",
       "8               Manish Meena                      3                   Fair   \n",
       "9              Salman Shamsi                      5               Terrific   \n",
       "10             MAYURESH WAGH                      5              Brilliant   \n",
       "11            Sanjay Barkade                      5       Perfect product!   \n",
       "12               Aditya Jana                      5      Terrific purchase   \n",
       "13              Karun Kittur                      5  Mind-blowing purchase   \n",
       "14            Ronny Carassco                      5      Terrific purchase   \n",
       "15         Flipkart Customer                      5     Highly recommended   \n",
       "16  SARAVANAN.K KAMALANATHAN                      5                Awesome   \n",
       "17            Kaustuv Sarkar                      5              Wonderful   \n",
       "18              AKHIL SHAIKH                      4            Good choice   \n",
       "19              Minhaj Uddin                      5      Worth every penny   \n",
       "\n",
       "                                          Main review  \n",
       "0   Ultra clear display! Cool features like social...  \n",
       "1   Awesome Smart WatchAwesome Performance.A Produ...  \n",
       "2   Till now this one is the best which I have use...  \n",
       "3   Good fitness tarcker, good amoled display, goo...  \n",
       "4   Awesome product right now in best price like a...  \n",
       "5   Really smart watch...it's very comfortable and...  \n",
       "6   It has a GPS issue, after a replacement it rem...  \n",
       "7   Best Smartwatch with a great look, amazing dis...  \n",
       "8   After a couple of weeks usage here are some of...  \n",
       "9   This watch has premium quality body and amazin...  \n",
       "10  Received a very well packed box. The white mai...  \n",
       "11  Super watch.Showing exact all readings.(heart ...  \n",
       "12  Display Quality is amazing because of amoled ,...  \n",
       "13  Best smart watch you can get under 10k . Nice ...  \n",
       "14  Loved the watch. Reviewing after owning smart ...  \n",
       "15  They have mentioned the battery backup as upto...  \n",
       "16  Seriously an awesome watch at this affordable ...  \n",
       "17  Took 8 days to deliver.But the watch is awesom...  \n",
       "18  Awesome watch, got his in 7020 in offer.amoled...  \n",
       "19  Happy to get the watch, the delivery was soon,...  "
      ]
     },
     "execution_count": 16,
     "metadata": {},
     "output_type": "execute_result"
    }
   ],
   "source": [
    "df"
   ]
  },
  {
   "cell_type": "code",
   "execution_count": 15,
   "metadata": {},
   "outputs": [],
   "source": [
    "# The below code is used to store the df data in desktop, the location can be changed as the users wish, Index = False here specifies not loading of first column that is 0,1,2,3,....19 in .csv file\n",
    "df.to_csv(r\"C:\\Users\\Akhil\\OneDrive\\Desktop\\Review_for_Amazfit_GTS.csv\", index = False)"
   ]
  },
  {
   "cell_type": "markdown",
   "metadata": {},
   "source": [
    "# Senstivity Analysis\n",
    "### The below code is used to do the sensitivity analysis for the data generated above"
   ]
  },
  {
   "cell_type": "code",
   "execution_count": 17,
   "metadata": {},
   "outputs": [
    {
     "name": "stdout",
     "output_type": "stream",
     "text": [
      "                                          Main review  polarity  subjectivity\n",
      "0   Ultra clear display! Cool features like social...  0.235417      0.337500\n",
      "1   Awesome Smart WatchAwesome Performance.A Produ...  0.477827      0.815774\n",
      "2   Till now this one is the best which I have use...  0.627083      0.695833\n",
      "3   Good fitness tarcker, good amoled display, goo...  0.528571      0.500000\n",
      "4   Awesome product right now in best price like a...  0.696429      0.583929\n",
      "5   Really smart watch...it's very comfortable and...  0.558571      0.785714\n",
      "6   It has a GPS issue, after a replacement it rem...  0.233766      0.497078\n",
      "7   Best Smartwatch with a great look, amazing dis...  0.708333      0.683333\n",
      "8   After a couple of weeks usage here are some of...  0.142917      0.500000\n",
      "9   This watch has premium quality body and amazin...  0.560000      0.760000\n",
      "10  Received a very well packed box. The white mai...  0.370476      0.450833\n",
      "11  Super watch.Showing exact all readings.(heart ...  0.337037      0.400000\n",
      "12  Display Quality is amazing because of amoled ,...  0.307273      0.510909\n",
      "13  Best smart watch you can get under 10k . Nice ...  0.602857      0.608571\n",
      "14  Loved the watch. Reviewing after owning smart ...  0.629365      0.741799\n",
      "15  They have mentioned the battery backup as upto...  0.384722      0.618519\n",
      "16  Seriously an awesome watch at this affordable ...  0.630000      0.606667\n",
      "17  Took 8 days to deliver.But the watch is awesom...  0.401190      0.620238\n",
      "18  Awesome watch, got his in 7020 in offer.amoled...  0.561364      0.588636\n",
      "19  Happy to get the watch, the delivery was soon,...  0.412500      0.695833\n"
     ]
    }
   ],
   "source": [
    "# Here below we are reading the .csv file and we are considering only the \"Main review\" column to do sensitivity analysis\n",
    "df = pd.read_csv('C:\\\\Users\\\\Akhil\\\\OneDrive\\\\Desktop\\\\Review_for_Amazfit_GTS.csv', usecols = [\"Main review\"])\n",
    "\n",
    "# For doing sensitivity analysis we need to have TextBlob, we are importing it below; if TextBlob is not installed in your anaconda please do install it and then run it\n",
    "from textblob import TextBlob\n",
    "\n",
    "# The x in the lambda function is a row, and the axis = 1 specifies considering the columns\n",
    "# \"Apply\" iterates the function accross the dataframe's rows\n",
    "df['polarity'] = df.apply(lambda x: TextBlob(x[\"Main review\"]).sentiment.polarity, axis=1)# This line gives Polarity\n",
    "df['subjectivity'] = df.apply(lambda x: TextBlob(x[\"Main review\"]).sentiment.subjectivity, axis=1)# This line gives Subjectivity\n",
    "print(df) # Here it shows sentivity report for Main review "
   ]
  }
 ],
 "metadata": {
  "kernelspec": {
   "display_name": "Python 3",
   "language": "python",
   "name": "python3"
  },
  "language_info": {
   "codemirror_mode": {
    "name": "ipython",
    "version": 3
   },
   "file_extension": ".py",
   "mimetype": "text/x-python",
   "name": "python",
   "nbconvert_exporter": "python",
   "pygments_lexer": "ipython3",
   "version": "3.8.5"
  }
 },
 "nbformat": 4,
 "nbformat_minor": 4
}
